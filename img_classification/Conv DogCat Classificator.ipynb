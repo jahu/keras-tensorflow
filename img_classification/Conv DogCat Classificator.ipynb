{
 "cells": [
  {
   "cell_type": "code",
   "execution_count": 12,
   "metadata": {},
   "outputs": [
    {
     "name": "stdout",
     "output_type": "stream",
     "text": [
      "Train on 17462 samples, validate on 7484 samples\n",
      "Epoch 1/10\n",
      "17462/17462 [==============================] - 69s 4ms/sample - loss: 0.6475 - acc: 0.6094 - val_loss: 0.5863 - val_acc: 0.6831\n",
      "Epoch 2/10\n",
      "17462/17462 [==============================] - 71s 4ms/sample - loss: 0.5521 - acc: 0.7217 - val_loss: 0.5722 - val_acc: 0.6964\n",
      "Epoch 3/10\n",
      "17462/17462 [==============================] - 71s 4ms/sample - loss: 0.4918 - acc: 0.7619 - val_loss: 0.4852 - val_acc: 0.7695\n",
      "Epoch 4/10\n",
      "17462/17462 [==============================] - 73s 4ms/sample - loss: 0.4549 - acc: 0.7848 - val_loss: 0.4542 - val_acc: 0.7901\n",
      "Epoch 5/10\n",
      "17462/17462 [==============================] - 87s 5ms/sample - loss: 0.4233 - acc: 0.8050 - val_loss: 0.4813 - val_acc: 0.7680\n",
      "Epoch 6/10\n",
      "17462/17462 [==============================] - 86s 5ms/sample - loss: 0.3951 - acc: 0.8207 - val_loss: 0.4274 - val_acc: 0.8041\n",
      "Epoch 7/10\n",
      "17462/17462 [==============================] - 75s 4ms/sample - loss: 0.3618 - acc: 0.8336 - val_loss: 0.4080 - val_acc: 0.8185\n",
      "Epoch 8/10\n",
      "17462/17462 [==============================] - 73s 4ms/sample - loss: 0.3291 - acc: 0.8561 - val_loss: 0.4128 - val_acc: 0.8123\n",
      "Epoch 9/10\n",
      "17462/17462 [==============================] - 74s 4ms/sample - loss: 0.3039 - acc: 0.8680 - val_loss: 0.4417 - val_acc: 0.8113\n",
      "Epoch 10/10\n",
      "17462/17462 [==============================] - 74s 4ms/sample - loss: 0.2826 - acc: 0.8782 - val_loss: 0.4109 - val_acc: 0.8231\n"
     ]
    }
   ],
   "source": [
    "import tensorflow as tf\n",
    "from tensorflow.keras.models import Sequential\n",
    "from tensorflow.keras.layers import Dense, Dropout, Activation, Flatten, Conv2D, MaxPooling2D\n",
    "import pickle\n",
    "from tensorflow.keras.callbacks import TensorBoard\n",
    "import time\n",
    "\n",
    "NAME = \"CatsDogs-cnn-64x2-{}\".format(int(time.time()))\n",
    "\n",
    "tensorboard = TensorBoard(log_dir='logs\\{}'.format(NAME))\n",
    "\n",
    "X = pickle.load(open(\"X.pickle\", \"rb\"))\n",
    "y = pickle.load(open(\"y.pickle\", \"rb\"))\n",
    "\n",
    "X = X/255.0\n",
    "\n",
    "model = Sequential()\n",
    "model.add(Conv2D(64, (3,3), input_shape = X.shape[1:]))\n",
    "model.add(Activation(\"relu\"))\n",
    "model.add(MaxPooling2D(pool_size=(2,2)))\n",
    "\n",
    "model.add(Conv2D(64, (3,3)))\n",
    "model.add(Activation(\"relu\"))\n",
    "model.add(MaxPooling2D(pool_size=(2,2)))\n",
    "\n",
    "model.add(Conv2D(64, (3,3)))\n",
    "model.add(Activation(\"relu\"))\n",
    "model.add(MaxPooling2D(pool_size=(2,2)))\n",
    "\n",
    "model.add(Flatten())\n",
    "\n",
    "model.add(Dense(1))\n",
    "model.add(Activation(\"sigmoid\"))\n",
    "\n",
    "model.compile(loss=\"binary_crossentropy\",\n",
    "             optimizer=\"adam\",\n",
    "             metrics=['accuracy'])\n",
    "\n",
    "history = model.fit(X, y, batch_size=32, epochs = 10, validation_split=0.3, callbacks = [tensorboard])\n",
    "model.save('dogscatsModel')"
   ]
  },
  {
   "cell_type": "code",
   "execution_count": null,
   "metadata": {},
   "outputs": [],
   "source": []
  }
 ],
 "metadata": {
  "kernelspec": {
   "display_name": "Python 3",
   "language": "python",
   "name": "python3"
  },
  "language_info": {
   "codemirror_mode": {
    "name": "ipython",
    "version": 3
   },
   "file_extension": ".py",
   "mimetype": "text/x-python",
   "name": "python",
   "nbconvert_exporter": "python",
   "pygments_lexer": "ipython3",
   "version": "3.7.4"
  }
 },
 "nbformat": 4,
 "nbformat_minor": 2
}
